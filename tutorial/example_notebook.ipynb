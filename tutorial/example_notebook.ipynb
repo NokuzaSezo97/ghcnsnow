{
 "cells": [
  {
   "cell_type": "markdown",
   "metadata": {},
   "source": [
    "This tutorial notebook examplify how GHCN-Daily station data is preprocessed and export into workable excel sheet format."
   ]
  },
  {
   "cell_type": "code",
   "execution_count": null,
   "metadata": {},
   "outputs": [],
   "source": [
    "# importing the necessary python package\n",
    "import pandas as pd\n",
    "import numpy as np\n",
    "import os\n",
    "import sys"
   ]
  },
  {
   "cell_type": "markdown",
   "metadata": {},
   "source": [
    "The example try to extract the GHCN-Daily data DLY file format. Before using the function, users must unzip the GHCN-Daily station data first from:[GHCN-DAILY LINK](https://www.ncei.noaa.gov/pub/data/ghcn/daily/)"
   ]
  },
  {
   "cell_type": "code",
   "execution_count": null,
   "metadata": {},
   "outputs": [],
   "source": [
    "# directory change to dly file folder\n",
    "os.chdir(r\"C:\\Users\\USER\\Desktop\\GHCNsnowprocess\")\n",
    "\n",
    "output_path = r'C:\\Users\\USER\\Desktop'\n",
    "# An example dly file to preprocess\n",
    "example_pth =  r\"D:\\snow_research_work\\ghcnd_all\\ACW00011604.dly\""
   ]
  },
  {
   "cell_type": "markdown",
   "metadata": {},
   "source": [
    "#### Module Calling"
   ]
  },
  {
   "cell_type": "code",
   "execution_count": null,
   "metadata": {},
   "outputs": [],
   "source": [
    "# importing the ghcnprocess module\n",
    "from ghcnsnow import ghcnprocess"
   ]
  },
  {
   "cell_type": "markdown",
   "metadata": {},
   "source": [
    "#### Preprocessing"
   ]
  },
  {
   "cell_type": "code",
   "execution_count": null,
   "metadata": {},
   "outputs": [],
   "source": [
    "# first we need to create an unformatted pandas dataframe from .dly file\n",
    "raw_df = ghcnprocess.readDLYfile(example_pth)"
   ]
  },
  {
   "cell_type": "code",
   "execution_count": null,
   "metadata": {},
   "outputs": [],
   "source": [
    "# Note that the daily measurement for each parameter measurements are recording along row direction (termed as unformatted)\n",
    "# This dataframe must be reformatted to workable format\n",
    "raw_df.head(15)"
   ]
  },
  {
   "cell_type": "code",
   "execution_count": null,
   "metadata": {},
   "outputs": [],
   "source": [
    "# Next, we will create a empty formatted skeletal pandas dataframe\n",
    "\n",
    "# You can provide which element variable to extract, otherwise, the function\n",
    "# will extract all available elements in a particular station.\n",
    "\n",
    "# Each dataframe represent a specific GHCN element variable\n",
    "empty_df = ghcnprocess.createNewDataframe(raw_df, ['SNWD', 'PRCP'])\n",
    "\n",
    "print(f'Total number of dataframes: {len(empty_df)}')\n",
    "# checking for snow depth dataframe\n",
    "empty_df[0].head(10)\n",
    "\n",
    "# For each variable, three daily quality flags are attached:\n",
    "# QFlag (Quality Flag), MFlag (Measurement Flag), SFlag (Station flag)"
   ]
  },
  {
   "cell_type": "code",
   "execution_count": null,
   "metadata": {},
   "outputs": [],
   "source": [
    "# Now, a final formatting function by copying the values from unformatted dataframe'\n",
    "# into a formatted skeletal dataframe for use\n",
    "\n",
    "final = ghcnprocess.formatDLYdata(raw_df, empty_df)\n",
    "\n",
    "# Same as earlier, daily measurements, quality flags are now in the empty dataframe\n",
    "# return as a list: each dataframe represents a GHCN variable \n",
    "print(f'Total number of dataframes: {len(final)}')\n",
    "# checking for snow depth dataframe\n",
    "final[0].head(10)"
   ]
  },
  {
   "cell_type": "markdown",
   "metadata": {},
   "source": [
    "#### Exporting as workable excel sheet"
   ]
  },
  {
   "cell_type": "code",
   "execution_count": null,
   "metadata": {},
   "outputs": [],
   "source": [
    "ghcnprocess.exportDFtoExcel(output_path, final)"
   ]
  },
  {
   "cell_type": "code",
   "execution_count": null,
   "metadata": {},
   "outputs": [],
   "source": [
    "hkh_stations = pd.read_csv(r\"D:\\snow_research_work\\station_locations\\clipped_ghcn_all.csv\")\n",
    "station_list = hkh_stations['Station_ID'].to_numpy()\n",
    "\n",
    "for i in range(station_list.shape[0]):\n",
    "\n",
    "    print('Going '+station_list[i])\n",
    "    raw_df = readDLYfile(filename= r\"D:\\snow_research_work\\ghcnd_all\\{}.dly\".format(station_list[i]))\n",
    "    preprocessed = createNewDataframe(raw_dataf= raw_df)\n",
    "    final_dataframes = formatDLYdata(raw_df, preprocessed)\n",
    "    exportDFtoExcel(r'D:\\snow_research_work\\all_hkh_station_measurements', final_dataframes)"
   ]
  }
 ],
 "metadata": {
  "kernelspec": {
   "display_name": "Python 3",
   "language": "python",
   "name": "python3"
  },
  "language_info": {
   "codemirror_mode": {
    "name": "ipython",
    "version": 3
   },
   "file_extension": ".py",
   "mimetype": "text/x-python",
   "name": "python",
   "nbconvert_exporter": "python",
   "pygments_lexer": "ipython3",
   "version": "3.10.9"
  }
 },
 "nbformat": 4,
 "nbformat_minor": 2
}
